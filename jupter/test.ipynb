{
 "cells": [
  {
   "cell_type": "code",
   "execution_count": 1,
   "id": "initial_id",
   "metadata": {
    "collapsed": true,
    "ExecuteTime": {
     "end_time": "2025-08-31T13:58:24.628393Z",
     "start_time": "2025-08-31T13:58:12.853482900Z"
    }
   },
   "outputs": [
    {
     "name": "stdout",
     "output_type": "stream",
     "text": [
      "没有找到 trade_date 为 20250829 的记录\n",
      "   NAME    TS_CODE      DATE       TIME   OPEN  PRE_CLOSE  PRICE   HIGH  \\\n",
      "0  浦发银行  600000.SH  20250829   16:11:42  13.81      13.86  13.63  13.99   \n",
      "\n",
      "     LOW    BID  ...  A1_V   A1_P    A2_V   A2_P  A3_V  A3_P    A4_V   A4_P  \\\n",
      "0  13.63  13.63  ...  30.0  13.68  2387.0  13.69  72.0  13.7  2469.0  13.71   \n",
      "\n",
      "   A5_V   A5_P  \n",
      "0  50.0  13.72  \n",
      "\n",
      "[1 rows x 33 columns]\n"
     ]
    }
   ],
   "source": [
    "from utils.tushare_utils  import pro,ts\n",
    "df = pro.stock_basic(\n",
    "                exchange='',\n",
    "                list_status='L',\n",
    "                fields='ts_code,name'\n",
    "            )\n",
    "name = df[df['ts_code']=='000002.SZ']['name'][1]\n",
    "print(ts.realtime_quote(ts_code='600000.SH', src='dc'))"
   ]
  },
  {
   "cell_type": "code",
   "execution_count": null,
   "outputs": [],
   "source": [
    "from utils.tushare_utils import IndexAnalysis\n",
    "import mplfinance as mpf\n",
    "import pandas as pd\n",
    "import numpy as np\n",
    "\n",
    "# 获取股票 002594.SZ 的 1分钟频率数据\n",
    "df = IndexAnalysis.rt_min('002594.SZ', 5)\n",
    "print(\"原始数据列名:\", df.columns.tolist())\n",
    "print(df.head())\n",
    "\n",
    "# 数据预处理\n",
    "# 1. 确保时间列是datetime类型，并设置为索引\n",
    "df['candle_end_time'] = pd.to_datetime(df['candle_end_time'])\n",
    "\n",
    "# 2. 控制显示的K线数量\n",
    "k_bars_to_show = 100  # 控制显示的K线数量\n",
    "df = df.iloc[-k_bars_to_show:] if len(df) > k_bars_to_show else df\n",
    "df.set_index('candle_end_time', inplace=True)\n",
    "\n",
    "# 3. 检查并处理列名以符合mplfinance要求\n",
    "if 'volume' in df.columns:\n",
    "    df.rename(columns={'volume': 'Volume'}, inplace=True)\n",
    "elif 'amount' in df.columns:\n",
    "    print(\"使用 'amount' (成交额) 列作为成交量进行绘图。\")\n",
    "    df.rename(columns={'amount': 'Volume'}, inplace=True)\n",
    "else:\n",
    "    print(\"数据中未找到 'volume' 或 'amount' 列，将不绘制成交量。\")\n",
    "\n",
    "# 重命名价格列\n",
    "df.rename(columns={\n",
    "    'open': 'Open',\n",
    "    'high': 'High',\n",
    "    'low': 'Low',\n",
    "    'close': 'Close'\n",
    "}, inplace=True)\n",
    "\n",
    "# 4. 计算移动平均线\n",
    "# 计算5周期和20周期移动平均线\n",
    "df['MA5'] = df['Close'].rolling(window=5, min_periods=1).mean()\n",
    "df['MA20'] = df['Close'].rolling(window=20, min_periods=1).mean()\n",
    "\n",
    "print(\"处理后的数据列名:\", df.columns.tolist())\n",
    "print(df.tail())\n",
    "\n",
    "# 5. 创建移动平均线的附加图\n",
    "apds = [\n",
    "    mpf.make_addplot(df['MA5'], color='blue', width=1.0),\n",
    "    mpf.make_addplot(df['MA20'], color='orange', width=1.0)\n",
    "]\n",
    "\n",
    "# 6. 绘制K线图\n",
    "# 判断是否有成交量数据\n",
    "has_volume = 'Volume' in df.columns\n",
    "\n",
    "# 创建自定义样式\n",
    "style = mpf.make_mpf_style(\n",
    "    marketcolors=mpf.make_marketcolors(\n",
    "        up='red',\n",
    "        down='green',\n",
    "        edge='inherit',\n",
    "        wick='inherit',\n",
    "        volume='in'\n",
    "    ),\n",
    "    gridstyle=':',\n",
    "    gridcolor='lightgray',\n",
    "    facecolor='white'\n",
    ")\n",
    "\n",
    "# 绘制图表\n",
    "mpf.plot(\n",
    "    df,\n",
    "    type='candle',\n",
    "    style=style,\n",
    "    title=f'002594.SZ 1分钟K线图 (最近{len(df)}根K线)',\n",
    "    ylabel='价格',\n",
    "    volume=has_volume,\n",
    "    addplot=apds,\n",
    "    figratio=(12, 8),\n",
    "    figscale=1.2,\n",
    "    datetime_format='%H:%M',\n",
    "    xrotation=45,\n",
    "    show_nontrading=False\n",
    ")"
   ],
   "metadata": {
    "collapsed": false
   },
   "id": "99fbef7de98999a2"
  },
  {
   "cell_type": "code",
   "execution_count": 18,
   "outputs": [
    {
     "name": "stdout",
     "output_type": "stream",
     "text": [
      "{'RSI6': 23.9, 'RSI12': 32.48}\n"
     ]
    }
   ],
   "source": [
    "from utils.tushare_utils import IndexAnalysis\n",
    "\n",
    "\n",
    "import pandas as pd\n",
    "import numpy as np\n",
    "\n",
    "import pandas as pd\n",
    "import numpy as np\n",
    "def calculate_rsi_tonghuashun(data, period=14):\n",
    "    \"\"\"\n",
    "    计算与同花顺匹配的RSI值（使用Wilder平滑方法）\n",
    "    \n",
    "    参数:\n",
    "    data: DataFrame, 包含价格数据，必须有'close'列\n",
    "    period: int, RSI计算周期（6或12）\n",
    "    \n",
    "    返回:\n",
    "    float: 最新一条数据的RSI值\n",
    "    \"\"\"\n",
    "    # 确保有足够的数据点\n",
    "    if len(data) < period + 1:\n",
    "        return None\n",
    "    \n",
    "    # 复制数据以避免修改原始DataFrame\n",
    "    df = data.copy()\n",
    "    \n",
    "    # 计算价格变化\n",
    "    delta = df['close'].diff()\n",
    "    \n",
    "    # 分离上涨和下跌\n",
    "    gain = delta.where(delta > 0, 0)\n",
    "    loss = -delta.where(delta < 0, 0)\n",
    "    \n",
    "    # 计算初始平均值（前period个周期的简单平均）\n",
    "    avg_gain = gain.rolling(window=period).mean()\n",
    "    avg_loss = loss.rolling(window=period).mean()\n",
    "    \n",
    "    # 使用Wilder平滑方法计算后续平均值\n",
    "    for i in range(period, len(df)):\n",
    "        avg_gain.iloc[i] = (avg_gain.iloc[i-1] * (period - 1) + gain.iloc[i]) / period\n",
    "        avg_loss.iloc[i] = (avg_loss.iloc[i-1] * (period - 1) + loss.iloc[i]) / period\n",
    "    \n",
    "    # 计算相对强度(RS)\n",
    "    rs = avg_gain / avg_loss\n",
    "    \n",
    "    # 计算RSI\n",
    "    rsi = 100 - (100 / (1 + rs))\n",
    "    \n",
    "    return rsi.iloc[-1]  # 返回最新值\n",
    "\n",
    "def get_tonghuashun_rsi_values(data):\n",
    "    \"\"\"\n",
    "    计算同花顺风格的RSI6和RSI12值\n",
    "    \n",
    "    参数:\n",
    "    data: DataFrame, 包含价格数据，必须有'close'列\n",
    "    \n",
    "    返回:\n",
    "    dict: 包含RSI6和RSI12值的字典\n",
    "    \"\"\"\n",
    "    # 计算RSI6\n",
    "    rsi6 = calculate_rsi_tonghuashun(data, period=6)\n",
    "    \n",
    "    # 计算RSI12\n",
    "    rsi12 = calculate_rsi_tonghuashun(data, period=12)\n",
    "    \n",
    "    return {\n",
    "        \"RSI6\": round(rsi6, 2) if rsi6 is not None else None,\n",
    "        \"RSI12\": round(rsi12, 2) if rsi12 is not None else None\n",
    "    }\n",
    "print(get_tonghuashun_rsi_values(IndexAnalysis.rt_min('399006.SZ',30)))"
   ],
   "metadata": {
    "collapsed": false,
    "ExecuteTime": {
     "end_time": "2025-09-04T14:55:46.196544Z",
     "start_time": "2025-09-04T14:55:45.972510Z"
    }
   },
   "id": "5d822db597c18f5b"
  },
  {
   "cell_type": "code",
   "execution_count": 11,
   "outputs": [
    {
     "name": "stdout",
     "output_type": "stream",
     "text": [
      "没有找到 trade_date 为 20250905 的记录\n",
      "        ts_code trade_date   open   high    low  close  pre_close  change  pct_chg         vol  ...   ma10     ma_v_10   ma20     ma_v_20   ma30     ma_v_30   ma60     ma_v_60  ma120    ma_v_120\n",
      "0     000001.SZ   20250905  11.73  11.74  11.63  11.72      11.74   -0.02    -0.17   819661.56  ...  12.01  1658081.80  12.08  1427345.97  12.19  1320749.22  12.28  1400548.93  11.79  1228664.01\n",
      "1     000001.SZ   20250904  11.76  11.77  11.60  11.74      11.75   -0.01    -0.09  1295300.02  ...  12.04  1740541.62  12.12  1427852.69  12.21  1330369.39  12.28  1405146.14  11.79  1236186.98\n",
      "2     000001.SZ   20250903  11.98  12.01  11.74  11.75      11.98   -0.23    -1.92  1367232.49  ...  12.08  1732753.44  12.15  1399190.34  12.23  1352504.41  12.28  1405061.48  11.79  1236329.24\n",
      "3     000001.SZ   20250902  11.85  11.99  11.84  11.98      11.89    0.09     0.76  1492715.66  ...  12.12  1700904.05  12.19  1365351.10  12.25  1352613.99  12.28  1400518.72  11.80  1240579.96\n",
      "4     000001.SZ   20250901  12.05  12.05  11.85  11.89      12.05   -0.16    -1.33  1858459.02  ...  12.12  1640918.47  12.21  1347319.23  12.27  1367364.44  12.28  1399442.32  11.79  1233215.45\n",
      "...         ...        ...    ...    ...    ...    ...        ...     ...      ...         ...  ...    ...         ...    ...         ...    ...         ...    ...         ...    ...         ...\n",
      "5995  000001.SZ   20000420  19.18  19.33  18.90  19.02      19.15   -0.13    -0.68    92860.00  ...    NaN         NaN    NaN         NaN    NaN         NaN    NaN         NaN    NaN         NaN\n",
      "5996  000001.SZ   20000419  19.51  19.68  19.10  19.15      19.10    0.05     0.26    68779.00  ...    NaN         NaN    NaN         NaN    NaN         NaN    NaN         NaN    NaN         NaN\n",
      "5997  000001.SZ   20000418  19.24  19.45  18.97  19.10      19.18   -0.08    -0.42    75959.00  ...    NaN         NaN    NaN         NaN    NaN         NaN    NaN         NaN    NaN         NaN\n",
      "5998  000001.SZ   20000417  19.52  20.02  18.95  19.18      19.49   -0.31    -1.59   212812.00  ...    NaN         NaN    NaN         NaN    NaN         NaN    NaN         NaN    NaN         NaN\n",
      "5999  000001.SZ   20000414  19.15  20.00  19.15  19.49        NaN     NaN      NaN   317631.00  ...    NaN         NaN    NaN         NaN    NaN         NaN    NaN         NaN    NaN         NaN\n",
      "\n",
      "[6000 rows x 23 columns]\n"
     ]
    }
   ],
   "source": [
    "from utils.date_utils import Date_utils\n",
    "from utils.tushare_utils import ts\n",
    "from utils.GetStockData import result\n",
    "filtered_df = result[\n",
    "    (result['total_mv'] > 500) & \n",
    "    (result['ts_code'].astype(str).str.startswith(('60', '00')))\n",
    "]\n",
    "# print(len(filtered_df))\n",
    "\n",
    "print(ts.pro_bar(ts_code='000001.SZ', start_date=Date_utils.get_date_by_step(Date_utils.get_today(replace=True),-5), end_date=Date_utils.get_today(replace=True), ma=[5,10, 20, 30,60,120]))"
   ],
   "metadata": {
    "collapsed": false,
    "ExecuteTime": {
     "end_time": "2025-09-06T14:20:39.433600800Z",
     "start_time": "2025-09-06T14:20:39.059692800Z"
    }
   },
   "id": "3980f04535c2370a"
  },
  {
   "cell_type": "code",
   "execution_count": null,
   "outputs": [],
   "source": [],
   "metadata": {
    "collapsed": false
   },
   "id": "d87217599258f6ef"
  }
 ],
 "metadata": {
  "kernelspec": {
   "name": "conda-base-py",
   "language": "python",
   "display_name": "Python [conda env:base] *"
  },
  "language_info": {
   "codemirror_mode": {
    "name": "ipython",
    "version": 2
   },
   "file_extension": ".py",
   "mimetype": "text/x-python",
   "name": "python",
   "nbconvert_exporter": "python",
   "pygments_lexer": "ipython2",
   "version": "2.7.6"
  }
 },
 "nbformat": 4,
 "nbformat_minor": 5
}
