{
 "cells": [
  {
   "cell_type": "code",
   "execution_count": 1,
   "id": "initial_id",
   "metadata": {
    "collapsed": true,
    "ExecuteTime": {
     "end_time": "2025-08-31T13:58:24.628393Z",
     "start_time": "2025-08-31T13:58:12.853482900Z"
    }
   },
   "outputs": [
    {
     "name": "stdout",
     "output_type": "stream",
     "text": [
      "没有找到 trade_date 为 20250829 的记录\n",
      "   NAME    TS_CODE      DATE       TIME   OPEN  PRE_CLOSE  PRICE   HIGH  \\\n",
      "0  浦发银行  600000.SH  20250829   16:11:42  13.81      13.86  13.63  13.99   \n",
      "\n",
      "     LOW    BID  ...  A1_V   A1_P    A2_V   A2_P  A3_V  A3_P    A4_V   A4_P  \\\n",
      "0  13.63  13.63  ...  30.0  13.68  2387.0  13.69  72.0  13.7  2469.0  13.71   \n",
      "\n",
      "   A5_V   A5_P  \n",
      "0  50.0  13.72  \n",
      "\n",
      "[1 rows x 33 columns]\n"
     ]
    }
   ],
   "source": [
    "from utils.tushare_utils  import pro,ts\n",
    "df = pro.stock_basic(\n",
    "                exchange='',\n",
    "                list_status='L',\n",
    "                fields='ts_code,name'\n",
    "            )\n",
    "name = df[df['ts_code']=='000002.SZ']['name'][1]\n",
    "print(ts.realtime_quote(ts_code='600000.SH', src='dc'))"
   ]
  },
  {
   "cell_type": "code",
   "execution_count": 3,
   "outputs": [
    {
     "name": "stdout",
     "output_type": "stream",
     "text": [
      "        candle_end_time     open     high      low    close       amount\n",
      "0   2025-08-22 10:55:00  3787.86  3793.60  3787.49  3793.60  11265263.00\n",
      "1   2025-08-22 11:00:00  3793.46  3794.44  3791.18  3792.33   9948057.00\n",
      "2   2025-08-22 11:05:00  3792.42  3792.54  3788.49  3789.48   9539690.00\n",
      "3   2025-08-22 11:10:00  3789.64  3796.93  3788.56  3795.79  10439598.00\n",
      "4   2025-08-22 11:15:00  3795.85  3797.33  3793.87  3794.71   8751442.00\n",
      "..                  ...      ...      ...      ...      ...          ...\n",
      "315 2025-09-01 14:40:00  3874.32  3875.85  3872.43  3875.55  10692454.00\n",
      "316 2025-09-01 14:45:00  3875.47  3875.84  3872.98  3873.38  12366315.00\n",
      "317 2025-09-01 14:50:00  3873.54  3873.77  3871.35  3873.77  14326043.00\n",
      "318 2025-09-01 14:55:00  3873.47  3875.96  3873.04  3875.47  17323330.00\n",
      "319 2025-09-01 15:00:00  3875.66  3876.75  3874.71  3875.53  17057979.00\n",
      "\n",
      "[320 rows x 6 columns]\n"
     ]
    },
    {
     "data": {
      "text/plain": "        candle_end_time     open     high      low    close       amount\n0   2025-08-22 10:55:00  3787.86  3793.60  3787.49  3793.60  11265263.00\n1   2025-08-22 11:00:00  3793.46  3794.44  3791.18  3792.33   9948057.00\n2   2025-08-22 11:05:00  3792.42  3792.54  3788.49  3789.48   9539690.00\n3   2025-08-22 11:10:00  3789.64  3796.93  3788.56  3795.79  10439598.00\n4   2025-08-22 11:15:00  3795.85  3797.33  3793.87  3794.71   8751442.00\n..                  ...      ...      ...      ...      ...          ...\n315 2025-09-01 14:40:00  3874.32  3875.85  3872.43  3875.55  10692454.00\n316 2025-09-01 14:45:00  3875.47  3875.84  3872.98  3873.38  12366315.00\n317 2025-09-01 14:50:00  3873.54  3873.77  3871.35  3873.77  14326043.00\n318 2025-09-01 14:55:00  3873.47  3875.96  3873.04  3875.47  17323330.00\n319 2025-09-01 15:00:00  3875.66  3876.75  3874.71  3875.53  17057979.00\n\n[320 rows x 6 columns]",
      "text/html": "<div>\n<style scoped>\n    .dataframe tbody tr th:only-of-type {\n        vertical-align: middle;\n    }\n\n    .dataframe tbody tr th {\n        vertical-align: top;\n    }\n\n    .dataframe thead th {\n        text-align: right;\n    }\n</style>\n<table border=\"1\" class=\"dataframe\">\n  <thead>\n    <tr style=\"text-align: right;\">\n      <th></th>\n      <th>candle_end_time</th>\n      <th>open</th>\n      <th>high</th>\n      <th>low</th>\n      <th>close</th>\n      <th>amount</th>\n    </tr>\n  </thead>\n  <tbody>\n    <tr>\n      <th>0</th>\n      <td>2025-08-22 10:55:00</td>\n      <td>3787.86</td>\n      <td>3793.60</td>\n      <td>3787.49</td>\n      <td>3793.60</td>\n      <td>11265263.00</td>\n    </tr>\n    <tr>\n      <th>1</th>\n      <td>2025-08-22 11:00:00</td>\n      <td>3793.46</td>\n      <td>3794.44</td>\n      <td>3791.18</td>\n      <td>3792.33</td>\n      <td>9948057.00</td>\n    </tr>\n    <tr>\n      <th>2</th>\n      <td>2025-08-22 11:05:00</td>\n      <td>3792.42</td>\n      <td>3792.54</td>\n      <td>3788.49</td>\n      <td>3789.48</td>\n      <td>9539690.00</td>\n    </tr>\n    <tr>\n      <th>3</th>\n      <td>2025-08-22 11:10:00</td>\n      <td>3789.64</td>\n      <td>3796.93</td>\n      <td>3788.56</td>\n      <td>3795.79</td>\n      <td>10439598.00</td>\n    </tr>\n    <tr>\n      <th>4</th>\n      <td>2025-08-22 11:15:00</td>\n      <td>3795.85</td>\n      <td>3797.33</td>\n      <td>3793.87</td>\n      <td>3794.71</td>\n      <td>8751442.00</td>\n    </tr>\n    <tr>\n      <th>...</th>\n      <td>...</td>\n      <td>...</td>\n      <td>...</td>\n      <td>...</td>\n      <td>...</td>\n      <td>...</td>\n    </tr>\n    <tr>\n      <th>315</th>\n      <td>2025-09-01 14:40:00</td>\n      <td>3874.32</td>\n      <td>3875.85</td>\n      <td>3872.43</td>\n      <td>3875.55</td>\n      <td>10692454.00</td>\n    </tr>\n    <tr>\n      <th>316</th>\n      <td>2025-09-01 14:45:00</td>\n      <td>3875.47</td>\n      <td>3875.84</td>\n      <td>3872.98</td>\n      <td>3873.38</td>\n      <td>12366315.00</td>\n    </tr>\n    <tr>\n      <th>317</th>\n      <td>2025-09-01 14:50:00</td>\n      <td>3873.54</td>\n      <td>3873.77</td>\n      <td>3871.35</td>\n      <td>3873.77</td>\n      <td>14326043.00</td>\n    </tr>\n    <tr>\n      <th>318</th>\n      <td>2025-09-01 14:55:00</td>\n      <td>3873.47</td>\n      <td>3875.96</td>\n      <td>3873.04</td>\n      <td>3875.47</td>\n      <td>17323330.00</td>\n    </tr>\n    <tr>\n      <th>319</th>\n      <td>2025-09-01 15:00:00</td>\n      <td>3875.66</td>\n      <td>3876.75</td>\n      <td>3874.71</td>\n      <td>3875.53</td>\n      <td>17057979.00</td>\n    </tr>\n  </tbody>\n</table>\n<p>320 rows × 6 columns</p>\n</div>"
     },
     "execution_count": 3,
     "metadata": {},
     "output_type": "execute_result"
    }
   ],
   "source": [
    "from utils.tushare_utils import IndexAnalysis\n",
    "IndexAnalysis.rt_min('000001.SH',5)"
   ],
   "metadata": {
    "collapsed": false,
    "ExecuteTime": {
     "end_time": "2025-09-01T14:15:57.364046700Z",
     "start_time": "2025-09-01T14:15:57.154850100Z"
    }
   },
   "id": "99fbef7de98999a2"
  },
  {
   "cell_type": "code",
   "execution_count": null,
   "outputs": [],
   "source": [],
   "metadata": {
    "collapsed": false
   },
   "id": "5d822db597c18f5b"
  }
 ],
 "metadata": {
  "kernelspec": {
   "name": "conda-base-py",
   "language": "python",
   "display_name": "Python [conda env:base] *"
  },
  "language_info": {
   "codemirror_mode": {
    "name": "ipython",
    "version": 2
   },
   "file_extension": ".py",
   "mimetype": "text/x-python",
   "name": "python",
   "nbconvert_exporter": "python",
   "pygments_lexer": "ipython2",
   "version": "2.7.6"
  }
 },
 "nbformat": 4,
 "nbformat_minor": 5
}
