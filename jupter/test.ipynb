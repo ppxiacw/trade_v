{
 "cells": [
  {
   "cell_type": "code",
   "execution_count": 1,
   "id": "initial_id",
   "metadata": {
    "collapsed": true,
    "ExecuteTime": {
     "end_time": "2025-08-31T13:58:24.628393Z",
     "start_time": "2025-08-31T13:58:12.853482900Z"
    }
   },
   "outputs": [
    {
     "name": "stdout",
     "output_type": "stream",
     "text": [
      "没有找到 trade_date 为 20250829 的记录\n",
      "   NAME    TS_CODE      DATE       TIME   OPEN  PRE_CLOSE  PRICE   HIGH  \\\n",
      "0  浦发银行  600000.SH  20250829   16:11:42  13.81      13.86  13.63  13.99   \n",
      "\n",
      "     LOW    BID  ...  A1_V   A1_P    A2_V   A2_P  A3_V  A3_P    A4_V   A4_P  \\\n",
      "0  13.63  13.63  ...  30.0  13.68  2387.0  13.69  72.0  13.7  2469.0  13.71   \n",
      "\n",
      "   A5_V   A5_P  \n",
      "0  50.0  13.72  \n",
      "\n",
      "[1 rows x 33 columns]\n"
     ]
    }
   ],
   "source": [
    "from utils.tushare_utils  import pro,ts\n",
    "df = pro.stock_basic(\n",
    "                exchange='',\n",
    "                list_status='L',\n",
    "                fields='ts_code,name'\n",
    "            )\n",
    "name = df[df['ts_code']=='000002.SZ']['name'][1]\n",
    "print(ts.realtime_quote(ts_code='600000.SH', src='dc'))"
   ]
  },
  {
   "cell_type": "code",
   "execution_count": null,
   "outputs": [],
   "source": [
    "from utils.tushare_utils import IndexAnalysis\n",
    "import mplfinance as mpf\n",
    "import pandas as pd\n",
    "import numpy as np\n",
    "\n",
    "# 获取股票 002594.SZ 的 1分钟频率数据\n",
    "df = IndexAnalysis.rt_min('002594.SZ', 5)\n",
    "print(\"原始数据列名:\", df.columns.tolist())\n",
    "print(df.head())\n",
    "\n",
    "# 数据预处理\n",
    "# 1. 确保时间列是datetime类型，并设置为索引\n",
    "df['candle_end_time'] = pd.to_datetime(df['candle_end_time'])\n",
    "\n",
    "# 2. 控制显示的K线数量\n",
    "k_bars_to_show = 100  # 控制显示的K线数量\n",
    "df = df.iloc[-k_bars_to_show:] if len(df) > k_bars_to_show else df\n",
    "df.set_index('candle_end_time', inplace=True)\n",
    "\n",
    "# 3. 检查并处理列名以符合mplfinance要求\n",
    "if 'volume' in df.columns:\n",
    "    df.rename(columns={'volume': 'Volume'}, inplace=True)\n",
    "elif 'amount' in df.columns:\n",
    "    print(\"使用 'amount' (成交额) 列作为成交量进行绘图。\")\n",
    "    df.rename(columns={'amount': 'Volume'}, inplace=True)\n",
    "else:\n",
    "    print(\"数据中未找到 'volume' 或 'amount' 列，将不绘制成交量。\")\n",
    "\n",
    "# 重命名价格列\n",
    "df.rename(columns={\n",
    "    'open': 'Open',\n",
    "    'high': 'High',\n",
    "    'low': 'Low',\n",
    "    'close': 'Close'\n",
    "}, inplace=True)\n",
    "\n",
    "# 4. 计算移动平均线\n",
    "# 计算5周期和20周期移动平均线\n",
    "df['MA5'] = df['Close'].rolling(window=5, min_periods=1).mean()\n",
    "df['MA20'] = df['Close'].rolling(window=20, min_periods=1).mean()\n",
    "\n",
    "print(\"处理后的数据列名:\", df.columns.tolist())\n",
    "print(df.tail())\n",
    "\n",
    "# 5. 创建移动平均线的附加图\n",
    "apds = [\n",
    "    mpf.make_addplot(df['MA5'], color='blue', width=1.0),\n",
    "    mpf.make_addplot(df['MA20'], color='orange', width=1.0)\n",
    "]\n",
    "\n",
    "# 6. 绘制K线图\n",
    "# 判断是否有成交量数据\n",
    "has_volume = 'Volume' in df.columns\n",
    "\n",
    "# 创建自定义样式\n",
    "style = mpf.make_mpf_style(\n",
    "    marketcolors=mpf.make_marketcolors(\n",
    "        up='red',\n",
    "        down='green',\n",
    "        edge='inherit',\n",
    "        wick='inherit',\n",
    "        volume='in'\n",
    "    ),\n",
    "    gridstyle=':',\n",
    "    gridcolor='lightgray',\n",
    "    facecolor='white'\n",
    ")\n",
    "\n",
    "# 绘制图表\n",
    "mpf.plot(\n",
    "    df,\n",
    "    type='candle',\n",
    "    style=style,\n",
    "    title=f'002594.SZ 1分钟K线图 (最近{len(df)}根K线)',\n",
    "    ylabel='价格',\n",
    "    volume=has_volume,\n",
    "    addplot=apds,\n",
    "    figratio=(12, 8),\n",
    "    figscale=1.2,\n",
    "    datetime_format='%H:%M',\n",
    "    xrotation=45,\n",
    "    show_nontrading=False\n",
    ")"
   ],
   "metadata": {
    "collapsed": false
   },
   "id": "99fbef7de98999a2"
  },
  {
   "cell_type": "code",
   "execution_count": 18,
   "outputs": [
    {
     "name": "stdout",
     "output_type": "stream",
     "text": [
      "{'RSI6': 23.9, 'RSI12': 32.48}\n"
     ]
    }
   ],
   "source": [
    "from utils.tushare_utils import IndexAnalysis\n",
    "\n",
    "\n",
    "import pandas as pd\n",
    "import numpy as np\n",
    "\n",
    "import pandas as pd\n",
    "import numpy as np\n",
    "def calculate_rsi_tonghuashun(data, period=14):\n",
    "    \"\"\"\n",
    "    计算与同花顺匹配的RSI值（使用Wilder平滑方法）\n",
    "    \n",
    "    参数:\n",
    "    data: DataFrame, 包含价格数据，必须有'close'列\n",
    "    period: int, RSI计算周期（6或12）\n",
    "    \n",
    "    返回:\n",
    "    float: 最新一条数据的RSI值\n",
    "    \"\"\"\n",
    "    # 确保有足够的数据点\n",
    "    if len(data) < period + 1:\n",
    "        return None\n",
    "    \n",
    "    # 复制数据以避免修改原始DataFrame\n",
    "    df = data.copy()\n",
    "    \n",
    "    # 计算价格变化\n",
    "    delta = df['close'].diff()\n",
    "    \n",
    "    # 分离上涨和下跌\n",
    "    gain = delta.where(delta > 0, 0)\n",
    "    loss = -delta.where(delta < 0, 0)\n",
    "    \n",
    "    # 计算初始平均值（前period个周期的简单平均）\n",
    "    avg_gain = gain.rolling(window=period).mean()\n",
    "    avg_loss = loss.rolling(window=period).mean()\n",
    "    \n",
    "    # 使用Wilder平滑方法计算后续平均值\n",
    "    for i in range(period, len(df)):\n",
    "        avg_gain.iloc[i] = (avg_gain.iloc[i-1] * (period - 1) + gain.iloc[i]) / period\n",
    "        avg_loss.iloc[i] = (avg_loss.iloc[i-1] * (period - 1) + loss.iloc[i]) / period\n",
    "    \n",
    "    # 计算相对强度(RS)\n",
    "    rs = avg_gain / avg_loss\n",
    "    \n",
    "    # 计算RSI\n",
    "    rsi = 100 - (100 / (1 + rs))\n",
    "    \n",
    "    return rsi.iloc[-1]  # 返回最新值\n",
    "\n",
    "def get_tonghuashun_rsi_values(data):\n",
    "    \"\"\"\n",
    "    计算同花顺风格的RSI6和RSI12值\n",
    "    \n",
    "    参数:\n",
    "    data: DataFrame, 包含价格数据，必须有'close'列\n",
    "    \n",
    "    返回:\n",
    "    dict: 包含RSI6和RSI12值的字典\n",
    "    \"\"\"\n",
    "    # 计算RSI6\n",
    "    rsi6 = calculate_rsi_tonghuashun(data, period=6)\n",
    "    \n",
    "    # 计算RSI12\n",
    "    rsi12 = calculate_rsi_tonghuashun(data, period=12)\n",
    "    \n",
    "    return {\n",
    "        \"RSI6\": round(rsi6, 2) if rsi6 is not None else None,\n",
    "        \"RSI12\": round(rsi12, 2) if rsi12 is not None else None\n",
    "    }\n",
    "print(get_tonghuashun_rsi_values(IndexAnalysis.rt_min('399006.SZ',30)))"
   ],
   "metadata": {
    "collapsed": false,
    "ExecuteTime": {
     "end_time": "2025-09-04T14:55:46.196544Z",
     "start_time": "2025-09-04T14:55:45.972510Z"
    }
   },
   "id": "5d822db597c18f5b"
  },
  {
   "cell_type": "code",
   "execution_count": 11,
   "outputs": [
    {
     "name": "stdout",
     "output_type": "stream",
     "text": [
      "没有找到 trade_date 为 20250905 的记录\n",
      "        ts_code trade_date  pre_close   open   high    low  close  change  pct_chg         vol  ...  ma10     ma_v_10  ma20     ma_v_20  ma30     ma_v_30  ma60     ma_v_60  ma120    ma_v_120\n",
      "0     159742.SZ   20250905      0.763  0.764  0.777  0.763  0.776   0.013   1.7038  4691041.10  ...  0.78  6809128.30  0.77  5780752.83  0.76  5043642.54  0.75  3901232.31   0.74  3948814.52\n",
      "1     159742.SZ   20250904      0.774  0.778  0.781  0.759  0.763  -0.011  -1.4212  5866382.00  ...  0.78  6979577.89  0.77  5683971.87  0.76  5005339.00  0.75  3883292.78   0.74  3955921.52\n",
      "2     159742.SZ   20250903      0.782  0.787  0.790  0.773  0.774  -0.008  -1.0230  5277424.01  ...  0.78  6826202.70  0.77  5539498.95  0.76  4919298.77  0.75  3843531.26   0.74  3952594.28\n",
      "3     159742.SZ   20250902      0.789  0.789  0.791  0.777  0.782  -0.007  -0.8872  5468322.00  ...  0.78  6827599.70  0.77  5419020.40  0.76  4882919.54  0.74  3801813.61   0.74  3967504.68\n",
      "4     159742.SZ   20250901      0.778  0.795  0.795  0.784  0.789   0.011   1.4139  6923959.00  ...  0.78  6726857.60  0.77  5352690.80  0.76  4786889.80  0.74  3757885.88   0.74  3995526.68\n",
      "...         ...        ...        ...    ...    ...    ...    ...     ...      ...         ...  ...   ...         ...   ...         ...   ...         ...   ...         ...    ...         ...\n",
      "1038  159742.SZ   20210531      0.990  0.992  1.001  0.990  1.001   0.011   1.1111   305354.99  ...   NaN         NaN   NaN         NaN   NaN         NaN   NaN         NaN    NaN         NaN\n",
      "1039  159742.SZ   20210528      1.007  1.008  1.009  0.986  0.990  -0.017  -1.6882   380596.20  ...   NaN         NaN   NaN         NaN   NaN         NaN   NaN         NaN    NaN         NaN\n",
      "1040  159742.SZ   20210527      1.004  1.005  1.008  0.999  1.007   0.003   0.2988   603304.76  ...   NaN         NaN   NaN         NaN   NaN         NaN   NaN         NaN    NaN         NaN\n",
      "1041  159742.SZ   20210526      1.002  1.007  1.008  1.000  1.004   0.002   0.1996   439858.08  ...   NaN         NaN   NaN         NaN   NaN         NaN   NaN         NaN    NaN         NaN\n",
      "1042  159742.SZ   20210525      0.991  0.999  1.003  0.983  1.002   0.011   1.1100   853528.95  ...   NaN         NaN   NaN         NaN   NaN         NaN   NaN         NaN    NaN         NaN\n",
      "\n",
      "[1043 rows x 23 columns]\n"
     ]
    }
   ],
   "source": [
    "from utils.date_utils import Date_utils\n",
    "from utils.tushare_utils import ts\n",
    "from utils.GetStockData import result\n",
    "filtered_df = result[\n",
    "    (result['total_mv'] > 500) & \n",
    "    (result['ts_code'].astype(str).str.startswith(('60', '00')))\n",
    "]\n",
    "# print(filtered_df)\n",
    "\n",
    "print(ts.pro_bar(ts_code='159742.SZ',asset = 'FD', start_date=Date_utils.get_date_by_step(Date_utils.get_today(replace=True),-5), end_date=Date_utils.get_today(replace=True), ma=[5,10, 20, 30,60,120]))"
   ],
   "metadata": {
    "collapsed": false,
    "ExecuteTime": {
     "end_time": "2025-09-07T09:14:59.839581300Z",
     "start_time": "2025-09-07T09:14:59.619301300Z"
    }
   },
   "id": "3980f04535c2370a"
  },
  {
   "cell_type": "code",
   "execution_count": null,
   "outputs": [],
   "source": [],
   "metadata": {
    "collapsed": false
   },
   "id": "d87217599258f6ef"
  }
 ],
 "metadata": {
  "kernelspec": {
   "name": "conda-base-py",
   "language": "python",
   "display_name": "Python [conda env:base] *"
  },
  "language_info": {
   "codemirror_mode": {
    "name": "ipython",
    "version": 2
   },
   "file_extension": ".py",
   "mimetype": "text/x-python",
   "name": "python",
   "nbconvert_exporter": "python",
   "pygments_lexer": "ipython2",
   "version": "2.7.6"
  }
 },
 "nbformat": 4,
 "nbformat_minor": 5
}
