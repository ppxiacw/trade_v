{
 "cells": [
  {
   "cell_type": "code",
   "execution_count": 1,
   "id": "initial_id",
   "metadata": {
    "collapsed": true,
    "ExecuteTime": {
     "end_time": "2025-08-31T13:58:24.628393Z",
     "start_time": "2025-08-31T13:58:12.853482900Z"
    }
   },
   "outputs": [
    {
     "name": "stdout",
     "output_type": "stream",
     "text": [
      "没有找到 trade_date 为 20250829 的记录\n",
      "   NAME    TS_CODE      DATE       TIME   OPEN  PRE_CLOSE  PRICE   HIGH  \\\n",
      "0  浦发银行  600000.SH  20250829   16:11:42  13.81      13.86  13.63  13.99   \n",
      "\n",
      "     LOW    BID  ...  A1_V   A1_P    A2_V   A2_P  A3_V  A3_P    A4_V   A4_P  \\\n",
      "0  13.63  13.63  ...  30.0  13.68  2387.0  13.69  72.0  13.7  2469.0  13.71   \n",
      "\n",
      "   A5_V   A5_P  \n",
      "0  50.0  13.72  \n",
      "\n",
      "[1 rows x 33 columns]\n"
     ]
    }
   ],
   "source": [
    "from utils.tushare_utils  import pro,ts\n",
    "df = pro.stock_basic(\n",
    "                exchange='',\n",
    "                list_status='L',\n",
    "                fields='ts_code,name'\n",
    "            )\n",
    "name = df[df['ts_code']=='000002.SZ']['name'][1]\n",
    "print(ts.realtime_quote(ts_code='600000.SH', src='dc'))"
   ]
  },
  {
   "cell_type": "code",
   "execution_count": null,
   "outputs": [],
   "source": [
    "from utils.tushare_utils import IndexAnalysis\n",
    "IndexAnalysis.rt_min('000001.SH',5)"
   ],
   "metadata": {
    "collapsed": false
   },
   "id": "99fbef7de98999a2"
  },
  {
   "cell_type": "code",
   "execution_count": 18,
   "outputs": [
    {
     "name": "stdout",
     "output_type": "stream",
     "text": [
      "{'RSI6': 23.9, 'RSI12': 32.48}\n"
     ]
    }
   ],
   "source": [
    "from utils.tushare_utils import IndexAnalysis\n",
    "\n",
    "\n",
    "import pandas as pd\n",
    "import numpy as np\n",
    "\n",
    "import pandas as pd\n",
    "import numpy as np\n",
    "def calculate_rsi_tonghuashun(data, period=14):\n",
    "    \"\"\"\n",
    "    计算与同花顺匹配的RSI值（使用Wilder平滑方法）\n",
    "    \n",
    "    参数:\n",
    "    data: DataFrame, 包含价格数据，必须有'close'列\n",
    "    period: int, RSI计算周期（6或12）\n",
    "    \n",
    "    返回:\n",
    "    float: 最新一条数据的RSI值\n",
    "    \"\"\"\n",
    "    # 确保有足够的数据点\n",
    "    if len(data) < period + 1:\n",
    "        return None\n",
    "    \n",
    "    # 复制数据以避免修改原始DataFrame\n",
    "    df = data.copy()\n",
    "    \n",
    "    # 计算价格变化\n",
    "    delta = df['close'].diff()\n",
    "    \n",
    "    # 分离上涨和下跌\n",
    "    gain = delta.where(delta > 0, 0)\n",
    "    loss = -delta.where(delta < 0, 0)\n",
    "    \n",
    "    # 计算初始平均值（前period个周期的简单平均）\n",
    "    avg_gain = gain.rolling(window=period).mean()\n",
    "    avg_loss = loss.rolling(window=period).mean()\n",
    "    \n",
    "    # 使用Wilder平滑方法计算后续平均值\n",
    "    for i in range(period, len(df)):\n",
    "        avg_gain.iloc[i] = (avg_gain.iloc[i-1] * (period - 1) + gain.iloc[i]) / period\n",
    "        avg_loss.iloc[i] = (avg_loss.iloc[i-1] * (period - 1) + loss.iloc[i]) / period\n",
    "    \n",
    "    # 计算相对强度(RS)\n",
    "    rs = avg_gain / avg_loss\n",
    "    \n",
    "    # 计算RSI\n",
    "    rsi = 100 - (100 / (1 + rs))\n",
    "    \n",
    "    return rsi.iloc[-1]  # 返回最新值\n",
    "\n",
    "def get_tonghuashun_rsi_values(data):\n",
    "    \"\"\"\n",
    "    计算同花顺风格的RSI6和RSI12值\n",
    "    \n",
    "    参数:\n",
    "    data: DataFrame, 包含价格数据，必须有'close'列\n",
    "    \n",
    "    返回:\n",
    "    dict: 包含RSI6和RSI12值的字典\n",
    "    \"\"\"\n",
    "    # 计算RSI6\n",
    "    rsi6 = calculate_rsi_tonghuashun(data, period=6)\n",
    "    \n",
    "    # 计算RSI12\n",
    "    rsi12 = calculate_rsi_tonghuashun(data, period=12)\n",
    "    \n",
    "    return {\n",
    "        \"RSI6\": round(rsi6, 2) if rsi6 is not None else None,\n",
    "        \"RSI12\": round(rsi12, 2) if rsi12 is not None else None\n",
    "    }\n",
    "print(get_tonghuashun_rsi_values(IndexAnalysis.rt_min('399006.SZ',30)))"
   ],
   "metadata": {
    "collapsed": false,
    "ExecuteTime": {
     "end_time": "2025-09-04T14:55:46.196544Z",
     "start_time": "2025-09-04T14:55:45.972510Z"
    }
   },
   "id": "5d822db597c18f5b"
  }
 ],
 "metadata": {
  "kernelspec": {
   "name": "conda-base-py",
   "language": "python",
   "display_name": "Python [conda env:base] *"
  },
  "language_info": {
   "codemirror_mode": {
    "name": "ipython",
    "version": 2
   },
   "file_extension": ".py",
   "mimetype": "text/x-python",
   "name": "python",
   "nbconvert_exporter": "python",
   "pygments_lexer": "ipython2",
   "version": "2.7.6"
  }
 },
 "nbformat": 4,
 "nbformat_minor": 5
}
